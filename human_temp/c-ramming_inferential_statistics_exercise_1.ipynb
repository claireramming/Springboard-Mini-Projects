{
 "cells": [
  {
   "cell_type": "markdown",
   "metadata": {},
   "source": [
    "# What is the True Normal Human Body Temperature? \n",
    "\n",
    "#### Background\n",
    "\n",
    "The mean normal body temperature was held to be 37$^{\\circ}$C or 98.6$^{\\circ}$F for more than 120 years since it was first conceptualized and reported by Carl Wunderlich in a famous 1868 book. But, is this value statistically correct?"
   ]
  },
  {
   "cell_type": "markdown",
   "metadata": {},
   "source": [
    "****\n",
    "\n",
    "### Exercises\n",
    "\n",
    "<p>In this exercise, you will analyze a dataset of human body temperatures and employ the concepts of hypothesis testing, confidence intervals, and statistical significance.</p>\n",
    "\n",
    "<p>Answer the following questions <b>in this notebook below and submit to your Github account</b>.</p> \n",
    "\n",
    "<ol>\n",
    "<li>  Is the distribution of body temperatures normal? \n",
    "    <ul>\n",
    "    <li> Although this is not a requirement for CLT to hold (read CLT carefully), it gives us some peace of mind that the population may also be normally distributed if we assume that this sample is representative of the population.\n",
    "    </ul>\n",
    "<li>  Is the sample size large? Are the observations independent?\n",
    "    <ul>\n",
    "    <li> Remember that this is a condition for the CLT, and hence the statistical tests we are using, to apply.\n",
    "    </ul>\n",
    "<li>  Is the true population mean really 98.6 degrees F?\n",
    "    <ul>\n",
    "    <li> Would you use a one-sample or two-sample test? Why?\n",
    "    <li> In this situation, is it appropriate to use the $t$ or $z$ statistic? \n",
    "    <li> Now try using the other test. How is the result be different? Why?\n",
    "    </ul>\n",
    "<li>  At what temperature should we consider someone's temperature to be \"abnormal\"?\n",
    "    <ul>\n",
    "    <li> Start by computing the margin of error and confidence interval.\n",
    "    </ul>\n",
    "<li>  Is there a significant difference between males and females in normal temperature?\n",
    "    <ul>\n",
    "    <li> What test did you use and why?\n",
    "    <li> Write a story with your conclusion in the context of the original problem.\n",
    "    </ul>\n",
    "</ol>\n",
    "\n",
    "You can include written notes in notebook cells using Markdown: \n",
    "   - In the control panel at the top, choose Cell > Cell Type > Markdown\n",
    "   - Markdown syntax: http://nestacms.com/docs/creating-content/markdown-cheat-sheet\n",
    "\n",
    "#### Resources\n",
    "\n",
    "+ Information and data sources: http://www.amstat.org/publications/jse/datasets/normtemp.txt, http://www.amstat.org/publications/jse/jse_data_archive.htm\n",
    "+ Markdown syntax: http://nestacms.com/docs/creating-content/markdown-cheat-sheet\n",
    "\n",
    "****\n"
   ]
  },
  {
   "cell_type": "code",
   "execution_count": null,
   "metadata": {
    "collapsed": true
   },
   "outputs": [],
   "source": []
  },
  {
   "cell_type": "code",
   "execution_count": 2,
   "metadata": {
    "collapsed": true
   },
   "outputs": [],
   "source": [
    "import numpy as np\n",
    "import pandas as pd\n",
    "import matplotlib.pyplot as plt\n",
    "import seaborn as sns\n",
    "import scipy\n",
    "%matplotlib inline\n",
    "df = pd.read_csv('data/human_body_temperature.csv')"
   ]
  },
  {
   "cell_type": "code",
   "execution_count": 4,
   "metadata": {},
   "outputs": [
    {
     "ename": "NameError",
     "evalue": "name 'plt' is not defined",
     "output_type": "error",
     "traceback": [
      "\u001b[0;31m---------------------------------------------------------------------------\u001b[0m",
      "\u001b[0;31mNameError\u001b[0m                                 Traceback (most recent call last)",
      "\u001b[0;32m<ipython-input-4-57b8578f3577>\u001b[0m in \u001b[0;36m<module>\u001b[0;34m()\u001b[0m\n\u001b[1;32m      6\u001b[0m \u001b[0;31m#ideal bin width = 2 * .9 * 130^(-1/3) ~ .355\u001b[0m\u001b[0;34m\u001b[0m\u001b[0;34m\u001b[0m\u001b[0m\n\u001b[1;32m      7\u001b[0m \u001b[0;31m#number of bins = 4.5/.355 ~ 12.7 round up to 13\u001b[0m\u001b[0;34m\u001b[0m\u001b[0;34m\u001b[0m\u001b[0m\n\u001b[0;32m----> 8\u001b[0;31m \u001b[0m_\u001b[0m \u001b[0;34m=\u001b[0m \u001b[0mplt\u001b[0m\u001b[0;34m.\u001b[0m\u001b[0mhist\u001b[0m\u001b[0;34m(\u001b[0m\u001b[0mdf\u001b[0m\u001b[0;34m.\u001b[0m\u001b[0mtemperature\u001b[0m\u001b[0;34m,\u001b[0m \u001b[0mbins\u001b[0m\u001b[0;34m=\u001b[0m\u001b[0;36m13\u001b[0m\u001b[0;34m,\u001b[0m \u001b[0mnormed\u001b[0m\u001b[0;34m=\u001b[0m\u001b[0;32mTrue\u001b[0m\u001b[0;34m)\u001b[0m\u001b[0;34m\u001b[0m\u001b[0m\n\u001b[0m\u001b[1;32m      9\u001b[0m \u001b[0mplt\u001b[0m\u001b[0;34m.\u001b[0m\u001b[0mshow\u001b[0m\u001b[0;34m(\u001b[0m\u001b[0;34m)\u001b[0m\u001b[0;34m\u001b[0m\u001b[0m\n",
      "\u001b[0;31mNameError\u001b[0m: name 'plt' is not defined"
     ]
    }
   ],
   "source": [
    "\n",
    "#1. Is the distribution of body temperature normal?\n",
    "#df.head()\n",
    "#min(df.temperature), max(df.temperature) = (96.299999999999997, 100.8)\n",
    "#np.percentile(df.temperature, [25,75]) #IQR = .9\n",
    "#ideal bin width = 2 * .9 * 130^(-1/3) ~ .355\n",
    "#number of bins = 4.5/.355 ~ 12.7 round up to 13\n",
    "_ = plt.hist(df.temperature, bins=13, normed=True)\n",
    "plt.show()"
   ]
  },
  {
   "cell_type": "markdown",
   "metadata": {},
   "source": [
    "## 1. Is the Distribution of body temperature normal? \n",
    "Histograms are a great way to see distribution in a series. In this case I tried to find the ideal number of bins by using the Freedman-Diaconis Rule, bin width (h) should be 2 * IQR(x) * n^(-1/3) and number of bins is (max(x) - min(x))/h\n",
    "\n",
    "You can see from the plot, the distribution is not normal, it has several high peaks in the middle, a steep drop off as temp gets higher, and some outliers. "
   ]
  },
  {
   "cell_type": "code",
   "execution_count": 4,
   "metadata": {},
   "outputs": [
    {
     "name": "stdout",
     "output_type": "stream",
     "text": [
      "130\n"
     ]
    }
   ],
   "source": [
    "#2. Is the sample size large?\n",
    "dfsize = len(df.temperature)\n",
    "print(dfsize)"
   ]
  },
  {
   "cell_type": "markdown",
   "metadata": {},
   "source": [
    "## 2. Is the sample size large?\n",
    "Not compared to total human population in 1868, but in terms of picking between a T or Z test, yes. That would put are sample size at just over .00001 percent of the population at the time (again a rough estimate).)"
   ]
  },
  {
   "cell_type": "code",
   "execution_count": 13,
   "metadata": {},
   "outputs": [
    {
     "name": "stdout",
     "output_type": "stream",
     "text": [
      "98.24923076923078\n"
     ]
    }
   ],
   "source": [
    "#3. Is the True Population mean really 98.6 degrees F?\n",
    "dfmean = df.temperature.mean()\n",
    "print(dfmean)"
   ]
  },
  {
   "cell_type": "code",
   "execution_count": 45,
   "metadata": {},
   "outputs": [
    {
     "data": {
      "image/png": "[encoded data removed]",
      "text/plain": [
       "<matplotlib.figure.Figure at 0x118500940>"
      ]
     },
     "metadata": {},
     "output_type": "display_data"
    }
   ],
   "source": [
    "# Random sample to get a vector of mean temperatures\n",
    "def bootstrap_mean(data, nSample, niter=10000):\n",
    "    mean_list = []\n",
    "    np.random.seed(100)\n",
    "\n",
    "    for i in range(nIter):\n",
    "        sample = np.random.choice(data, size = nSample)\n",
    "        mean_list.append(np.mean(sample))\n",
    "\n",
    "    # Convert to series\n",
    "    series = pd.Series(mean_list)\n",
    "\n",
    "    return series\n",
    "\n",
    "mean_temp = bootstrap_mean(df.temperature, 130)\n",
    "#histogram\n",
    "_ = plt.hist(mean_temp, bins = 20, normed=True)\n",
    "_ = plt.title(\"Sampling distribution of means (bootstrapped)\")\n",
    "_ = plt.xlabel('mean temp (degrees F)')\n",
    "plt.show()"
   ]
  },
  {
   "cell_type": "markdown",
   "metadata": {},
   "source": [
    "## 3. Is the true population mean really 98.6 degrees F?\n",
    "        No, see above calculation and above bootstrapped data. In the histogram, 98.6 doesn't even register.\n",
    "    a. Would you use a one-sample or two-sample test? Why?\n",
    "        One-sample, since we are looking for the mean temperature of all humans, we just need one population data set,         we shouldn't have to split it up as men v women. \n",
    "    b. In this situation, is it appropriate to use the  t or  z statistic?\n",
    "        Since our sample size is large enough and we can calculate the standard deviation, we can use the Z value.\n",
    "    c. Now try using the other test. How is the result different? Why?\n",
    "        see below\n",
    "        Our Z and T values are very similar, this is due to the T-test's likeness to the Z-test as sample size        increases. "
   ]
  },
  {
   "cell_type": "code",
   "execution_count": 15,
   "metadata": {},
   "outputs": [
    {
     "name": "stdout",
     "output_type": "stream",
     "text": [
      "z-value=  -5.47592520208\n",
      "t-value=  -5.45482329236\n",
      "p-value=  2.41063204156e-07\n"
     ]
    }
   ],
   "source": [
    "#One-Sample Z-test\n",
    "#Our null hypothesis is that the mean temperature of the population is 98.6 degrees F\n",
    "std = np.std(df.temperature)\n",
    "\n",
    "#calculate Z value:\n",
    "z_value = (dfmean - 98.6)/(std/np.sqrt(len(df.temperature)))\n",
    "print('z-value= ', z_value)\n",
    "\n",
    "#try with T-test\n",
    "resultsarray = scipy.stats.ttest_1samp(df.temperature, 98.6)\n",
    "print('t-value= ', resultsarray[0])\n",
    "print('p-value= ', resultsarray[1])"
   ]
  },
  {
   "cell_type": "markdown",
   "metadata": {},
   "source": [
    "Our z/t-value is way off our expected 1.96 for 95% confidence so we can determine our null hypothesis is false, the true population mean temperature is most likely not 98.6 degrees F. "
   ]
  },
  {
   "cell_type": "markdown",
   "metadata": {},
   "source": [
    "## 4. At what temperature should we consider someone's temperature to be \"abnormal\"?\n",
    "    We'll go back to our bootstrapped data for this. The 95% confidence interval places the average temperature in the range of 98.1 to 98.4 (see below), any temperatures above or below that can be considered abnormal."
   ]
  },
  {
   "cell_type": "code",
   "execution_count": 46,
   "metadata": {},
   "outputs": [
    {
     "name": "stdout",
     "output_type": "stream",
     "text": [
      "95% confidence interval: [ 98.12384615  98.37615385]\n"
     ]
    }
   ],
   "source": [
    "#confidence interval\n",
    "confint = np.percentile(mean_temp, [2.5, 97.5])\n",
    "print('95% confidence interval:', confint)"
   ]
  },
  {
   "cell_type": "markdown",
   "metadata": {},
   "source": [
    "5. Is there a significant difference between males and females in normal temperature?\n",
    "    We can see below that there is a significant difference but we'll want to use a 2-sample test to prove it."
   ]
  },
  {
   "cell_type": "code",
   "execution_count": 61,
   "metadata": {},
   "outputs": [
    {
     "data": {
      "image/png": "[encoded data removed]",
      "text/plain": [
       "<matplotlib.figure.Figure at 0x118cf6358>"
      ]
     },
     "metadata": {},
     "output_type": "display_data"
    },
    {
     "name": "stdout",
     "output_type": "stream",
     "text": [
      "male 95% conf:  [ 97.98230769  98.22307692]\n",
      "female 95% conf:  [ 98.26921154  98.51923077]\n"
     ]
    }
   ],
   "source": [
    "data_f = df[df.gender == 'F'].temperature\n",
    "data_m = df[df.gender == 'M'].temperature\n",
    "\n",
    "means_f = bootstrap_mean(data_f, 130)\n",
    "means_m = bootstrap_mean(data_m, 130)\n",
    "\n",
    "#histogram\n",
    "_ = plt.hist(means_f, bins = 20, normed=True, color='red', alpha = .6, label='female')\n",
    "_ = plt.hist(means_m, bins = 20, normed=True, color='blue', alpha = .6, label='male')\n",
    "_ = plt.title(\"distribution of means by Gender (bootstrapped)\")\n",
    "_ = plt.xlabel('mean temp (degrees F)')\n",
    "_ = plt.legend()\n",
    "\n",
    "plt.show()\n",
    "\n",
    "male_conf = np.percentile(means_m, [2.5, 97.5])\n",
    "female_conf = np.percentile(means_f, [2.5, 97.5])\n",
    "\n",
    "print('male 95% conf: ', male_conf)\n",
    "print('female 95% conf: ', female_conf)"
   ]
  },
  {
   "cell_type": "code",
   "execution_count": 60,
   "metadata": {},
   "outputs": [
    {
     "name": "stdout",
     "output_type": "stream",
     "text": [
      "p_value =  0.0006\n"
     ]
    }
   ],
   "source": [
    "#we want to test null hypothesis that males and females have same mean temp\n",
    "#first shift the mean of our two sample sets to match the mean of the set as a while\n",
    "data_f_shifted = data_f - data_f.mean() + dfmean\n",
    "data_m_shifted = data_m - data_m.mean() + dfmean\n",
    "#get new bootstrapped means\n",
    "means_f = bootstrap_mean(data_f_shifted, 130)\n",
    "means_m = bootstrap_mean(data_m_shifted, 130)\n",
    "\n",
    "#get original diff of means to test against\n",
    "sample_diff_mean= data_f.mean() - data_m.mean()\n",
    "diff_means = means_f-means_m\n",
    "p_value = np.sum(diff_means >= sample_diff_mean)/(len(diff_means))\n",
    "print('p_value = ', p_value)"
   ]
  },
  {
   "cell_type": "markdown",
   "metadata": {},
   "source": [
    "Our p-value is very low, meaning the mean temp between males and females is significantly different in our data set. \n",
    "\n",
    "### Using sample data from 130 people, the average body temperature was found to be between 98.12 and 98.38 with 95% confidence. Our data also shows that there is statistical significance between male and female body temperature and females typically have a higher body temperature than males."
   ]
  }
 ],
 "metadata": {
  "kernelspec": {
   "display_name": "Python 3",
   "language": "python",
   "name": "python3"
  },
  "language_info": {
   "codemirror_mode": {
    "name": "ipython",
    "version": 3
   },
   "file_extension": ".py",
   "mimetype": "text/x-python",
   "name": "python",
   "nbconvert_exporter": "python",
   "pygments_lexer": "ipython3",
   "version": "3.6.1"
  }
 },
 "nbformat": 4,
 "nbformat_minor": 1
}
