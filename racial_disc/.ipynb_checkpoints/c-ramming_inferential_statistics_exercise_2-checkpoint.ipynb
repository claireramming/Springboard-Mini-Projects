{
 "cells": [
  {
   "cell_type": "markdown",
   "metadata": {},
   "source": [
    "# Examining Racial Discrimination in the US Job Market\n",
    "\n",
    "### Background\n",
    "Racial discrimination continues to be pervasive in cultures throughout the world. Researchers examined the level of racial discrimination in the United States labor market by randomly assigning identical résumés to black-sounding or white-sounding names and observing the impact on requests for interviews from employers.\n",
    "\n",
    "### Data\n",
    "In the dataset provided, each row represents a resume. The 'race' column has two values, 'b' and 'w', indicating black-sounding and white-sounding. The column 'call' has two values, 1 and 0, indicating whether the resume received a call from employers or not.\n",
    "\n",
    "Note that the 'b' and 'w' values in race are assigned randomly to the resumes when presented to the employer."
   ]
  },
  {
   "cell_type": "markdown",
   "metadata": {},
   "source": [
    "### Exercises\n",
    "You will perform a statistical analysis to establish whether race has a significant impact on the rate of callbacks for resumes.\n",
    "\n",
    "Answer the following questions **in this notebook below and submit to your Github account**. \n",
    "\n",
    "   1. What test is appropriate for this problem? Does CLT apply?\n",
    "   2. What are the null and alternate hypotheses?\n",
    "   3. Compute margin of error, confidence interval, and p-value.\n",
    "   4. Write a story describing the statistical significance in the context or the original problem.\n",
    "   5. Does your analysis mean that race/name is the most important factor in callback success? Why or why not? If not, how would you amend your analysis?\n",
    "\n",
    "You can include written notes in notebook cells using Markdown: \n",
    "   - In the control panel at the top, choose Cell > Cell Type > Markdown\n",
    "   - Markdown syntax: http://nestacms.com/docs/creating-content/markdown-cheat-sheet\n",
    "\n",
    "\n",
    "#### Resources\n",
    "+ Experiment information and data source: http://www.povertyactionlab.org/evaluation/discrimination-job-market-united-states\n",
    "+ Scipy statistical methods: http://docs.scipy.org/doc/scipy/reference/stats.html \n",
    "+ Markdown syntax: http://nestacms.com/docs/creating-content/markdown-cheat-sheet\n",
    "****"
   ]
  },
  {
   "cell_type": "code",
   "execution_count": 55,
   "metadata": {
    "collapsed": true
   },
   "outputs": [],
   "source": [
    "import numpy as np\n",
    "import pandas as pd\n",
    "import matplotlib.pyplot as plt\n",
    "import seaborn as sns\n",
    "from scipy import stats\n",
    "%matplotlib inline"
   ]
  },
  {
   "cell_type": "code",
   "execution_count": 2,
   "metadata": {
    "collapsed": true
   },
   "outputs": [],
   "source": [
    "data = pd.io.stata.read_stata('data/us_job_market_discrimination.dta')"
   ]
  },
  {
   "cell_type": "code",
   "execution_count": 21,
   "metadata": {},
   "outputs": [
    {
     "name": "stdout",
     "output_type": "stream",
     "text": [
      "totals; black white: 2435 2435\n",
      "total calls; black white: 157.0 235.0\n",
      "ratios; black white: 0.064476386037 0.0965092402464\n"
     ]
    }
   ],
   "source": [
    "# number of callbacks for black-sounding names\n",
    "num_black = len(data[data.race=='b'])\n",
    "num_white = len(data[data.race=='w'])\n",
    "print('totals; black white:', num_black, num_white)\n",
    "\n",
    "calls_black = sum(data[data.race=='b'].call)\n",
    "calls_white = sum(data[data.race=='w'].call)\n",
    "print('total calls; black white:', calls_black, calls_white)\n",
    "\n",
    "ratio_black = calls_black/num_black\n",
    "ratio_white = calls_white/num_white\n",
    "print('ratios; black white:', ratio_black, ratio_white)"
   ]
  },
  {
   "cell_type": "code",
   "execution_count": 19,
   "metadata": {},
   "outputs": [
    {
     "data": {
      "text/html": [
       "<div>\n",
       "<style>\n",
       "    .dataframe thead tr:only-child th {\n",
       "        text-align: right;\n",
       "    }\n",
       "\n",
       "    .dataframe thead th {\n",
       "        text-align: left;\n",
       "    }\n",
       "\n",
       "    .dataframe tbody tr th {\n",
       "        vertical-align: top;\n",
       "    }\n",
       "</style>\n",
       "<table border=\"1\" class=\"dataframe\">\n",
       "  <thead>\n",
       "    <tr style=\"text-align: right;\">\n",
       "      <th></th>\n",
       "      <th>race</th>\n",
       "      <th>call</th>\n",
       "    </tr>\n",
       "  </thead>\n",
       "  <tbody>\n",
       "    <tr>\n",
       "      <th>0</th>\n",
       "      <td>w</td>\n",
       "      <td>0.0</td>\n",
       "    </tr>\n",
       "    <tr>\n",
       "      <th>1</th>\n",
       "      <td>w</td>\n",
       "      <td>0.0</td>\n",
       "    </tr>\n",
       "    <tr>\n",
       "      <th>2</th>\n",
       "      <td>b</td>\n",
       "      <td>0.0</td>\n",
       "    </tr>\n",
       "    <tr>\n",
       "      <th>3</th>\n",
       "      <td>b</td>\n",
       "      <td>0.0</td>\n",
       "    </tr>\n",
       "    <tr>\n",
       "      <th>4</th>\n",
       "      <td>w</td>\n",
       "      <td>0.0</td>\n",
       "    </tr>\n",
       "  </tbody>\n",
       "</table>\n",
       "</div>"
      ],
      "text/plain": [
       "  race  call\n",
       "0    w   0.0\n",
       "1    w   0.0\n",
       "2    b   0.0\n",
       "3    b   0.0\n",
       "4    w   0.0"
      ]
     },
     "execution_count": 19,
     "metadata": {},
     "output_type": "execute_result"
    }
   ],
   "source": [
    "data[['race','call']].head(5)"
   ]
  },
  {
   "cell_type": "markdown",
   "metadata": {
    "collapsed": true
   },
   "source": [
    "# Does race have a significant impact on rate of callbacks for a resume?\n",
    "\n",
    "## 1. What test is appropriate for this problem? Does CLT apply?\n",
    "    CLT applies if we are looking at the rate, we can see if the distribution of callback rates is normal in a bootstrap test. A two-sample bootstrap test seems appropriate for this problem. "
   ]
  },
  {
   "cell_type": "code",
   "execution_count": 75,
   "metadata": {},
   "outputs": [
    {
     "data": {
      "image/png": "[encoded data removed]",
      "text/plain": [
       "<matplotlib.figure.Figure at 0x11f1c72b0>"
      ]
     },
     "metadata": {},
     "output_type": "display_data"
    }
   ],
   "source": [
    "# Random sample to get a vector of callback rates (aka sums of calls)\n",
    "def bootstrap_mean(data, nSample, nIter=10000):\n",
    "    mean_list = []\n",
    "    np.random.seed(100)\n",
    "\n",
    "    for i in range(nIter):\n",
    "        sample = np.random.choice(data, size = nSample)\n",
    "        mean_list.append(np.mean(sample))\n",
    "\n",
    "    # Convert to series\n",
    "    series = pd.Series(mean_list)\n",
    "\n",
    "    return series\n",
    "\n",
    "b_calls = data[data.race=='b'].call\n",
    "w_calls = data[data.race=='w'].call\n",
    "r_black = bootstrap_mean(b_calls, 2435)\n",
    "r_white = bootstrap_mean(w_calls, 2435)\n",
    "#histogram\n",
    "_ = plt.hist(r_black, bins = 20, normed=True, color='blue', alpha=.6, label='black-sounding')\n",
    "_ = plt.hist(r_white, bins = 20, normed=True, color='green', alpha=.6, label='white-sounding')\n",
    "_ = plt.title(\"Sampling distribution of callback rates by race (bootstrapped)\")\n",
    "_ = plt.xlabel('rate callbacks')\n",
    "_ = plt.legend()\n",
    "plt.show()"
   ]
  },
  {
   "cell_type": "markdown",
   "metadata": {},
   "source": [
    "## 2. What are the null and alternate hypotheses?\n",
    "    The null hypothesis is that the difference in rate of callback between black-sounding names and white-sounding names is not statistically significant. \n",
    "    The alternative hypothesis is that there is a statistically significant difference in the rate of callback between black-sounding names and white-sounding names, and that black-sounding names receive less callbacks. "
   ]
  },
  {
   "cell_type": "markdown",
   "metadata": {},
   "source": [
    "## 3. Compute margin of error, confidence interval, and p-value."
   ]
  },
  {
   "cell_type": "code",
   "execution_count": 86,
   "metadata": {},
   "outputs": [
    {
     "name": "stdout",
     "output_type": "stream",
     "text": [
      "mean rate=  0.08049281686544418\n",
      "margin of error:  0.0152665818075\n",
      "confidence interval is between  -0.0152665818075  and  0.0152665818075\n",
      "diff of means:  -0.03203285485506058\n",
      "p_value via bootstrap, 10000 samples:  0.0\n",
      "p-value via scipy:  3.94080210313e-05\n"
     ]
    }
   ],
   "source": [
    "#first lets get the mean of our data set\n",
    "mean_cbs = data.call.mean()\n",
    "\n",
    "print('mean rate= ', mean_cbs)\n",
    "sample_diff_mean= b_calls.mean() - w_calls.mean()\n",
    "\n",
    "std_err = np.sqrt(r_black.var() + r_white.var())\n",
    "mgn_err = 1.96 * std_err \n",
    "print('margin of error: ', mgn_err)\n",
    "print('confidence interval is between ', 0-mgn_err, ' and ', mgn_err)\n",
    "diff_mean = b_calls.mean() - w_calls.mean()\n",
    "print('diff of means: ', diff_mean )\n",
    "#we want to test null hypothesis that black-sounding names and white sounding names have the same rate\n",
    "#first shift the rates of our two sample sets to match the rate of the set as a whole\n",
    "data_black_shifted = b_calls - b_calls.mean() + mean_cbs\n",
    "data_white_shifted = w_calls - w_calls.mean() + mean_cbs\n",
    "\n",
    "#get new bootstrapped means\n",
    "rate_black = bootstrap_mean(data_black_shifted, 2435, 10000)\n",
    "rate_white = bootstrap_mean(data_white_shifted, 2435, 10000)\n",
    "\n",
    "#test\n",
    "diff_means = rate_black - rate_white\n",
    "p_value = np.sum(diff_means <= sample_diff_mean)/(len(diff_means))\n",
    "print('p_value via bootstrap, 10000 samples: ', p_value)\n",
    "results = stats.ttest_ind(w_calls,b_calls)\n",
    "print('p-value via scipy: ', results[1])"
   ]
  },
  {
   "cell_type": "markdown",
   "metadata": {},
   "source": [
    "## 4. Write a story describing the statistical significance in the context or the original problem.\n",
    "    When given a random resume with either a black-sounding or white-sounding name, employers were more likely to call a white-sounding name for an interview.\n",
    "\n",
    "## 5. Does your analysis mean that race/name is the most important factor in callback success? Why or why not? If not, how would you amend your analysis?\n",
    "    This does not necessarily mean race/name is the most important factor, this study only looked at the difference between race and call-back rate but there is a lot more than just someone's name on their resume that could also play a part in whether they get a call-back.  "
   ]
  },
  {
   "cell_type": "code",
   "execution_count": null,
   "metadata": {
    "collapsed": true
   },
   "outputs": [],
   "source": []
  }
 ],
 "metadata": {
  "kernelspec": {
   "display_name": "Python 3",
   "language": "python",
   "name": "python3"
  },
  "language_info": {
   "codemirror_mode": {
    "name": "ipython",
    "version": 3
   },
   "file_extension": ".py",
   "mimetype": "text/x-python",
   "name": "python",
   "nbconvert_exporter": "python",
   "pygments_lexer": "ipython3",
   "version": "3.6.1"
  }
 },
 "nbformat": 4,
 "nbformat_minor": 1
}
